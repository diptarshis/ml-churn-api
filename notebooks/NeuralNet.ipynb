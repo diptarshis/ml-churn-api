{
 "cells": [
  {
   "cell_type": "code",
   "execution_count": 33,
   "metadata": {},
   "outputs": [],
   "source": [
    "import numpy as np\n",
    "import tensorflow as tf\n",
    "from tensorflow.keras.models import Sequential\n",
    "from tensorflow.keras.layers import Dense, Dropout\n",
    "from tensorflow.keras.optimizers import Adam\n",
    "from sklearn.feature_selection import SelectFromModel\n",
    "from sklearn.ensemble import RandomForestClassifier\n",
    "from sklearn.metrics import roc_auc_score\n",
    "from sklearn.model_selection import train_test_split\n"
   ]
  },
  {
   "cell_type": "code",
   "execution_count": 34,
   "metadata": {},
   "outputs": [],
   "source": [
    "import pandas as pd\n",
    "train=pd.read_csv('../data/training_data.csv',low_memory=True, dtype=np.float32)\n",
    "test=pd.read_csv('../data/testing_data.csv',low_memory=True, dtype=np.float32)\n",
    "\n"
   ]
  },
  {
   "cell_type": "code",
   "execution_count": 35,
   "metadata": {},
   "outputs": [],
   "source": [
    "dep = ['Label']\n",
    "X_train = train.loc[:,~train.columns.isin(dep)]\n",
    "y_train = train.loc[:,train.columns.isin(dep)]\n"
   ]
  },
  {
   "cell_type": "code",
   "execution_count": 36,
   "metadata": {},
   "outputs": [],
   "source": [
    "X_val = test.loc[:,~test.columns.isin(dep)]\n",
    "y_val = test.loc[:,test.columns.isin(dep)]"
   ]
  },
  {
   "cell_type": "code",
   "execution_count": 37,
   "metadata": {},
   "outputs": [],
   "source": [
    "# Convert y to 1D array if it's a DataFrame\n",
    "# y_train = y_train.values.ravel() if hasattr(y_train, \"values\") else y_train\n",
    "# y_val = y_val.values.ravel() if hasattr(y_val, \"values\") else y_val"
   ]
  },
  {
   "cell_type": "code",
   "execution_count": 73,
   "metadata": {},
   "outputs": [
    {
     "name": "stderr",
     "output_type": "stream",
     "text": [
      "c:\\Users\\ASUS\\Desktop\\Assignment - Sigmoid\\model-dev\\Lib\\site-packages\\sklearn\\utils\\validation.py:2732: UserWarning: X has feature names, but SelectFromModel was fitted without feature names\n",
      "  warnings.warn(\n",
      "c:\\Users\\ASUS\\Desktop\\Assignment - Sigmoid\\model-dev\\Lib\\site-packages\\sklearn\\utils\\validation.py:2732: UserWarning: X has feature names, but SelectFromModel was fitted without feature names\n",
      "  warnings.warn(\n"
     ]
    }
   ],
   "source": [
    "from sklearn.ensemble import RandomForestClassifier\n",
    "from sklearn.feature_selection import SelectFromModel\n",
    "from sklearn.metrics import roc_auc_score\n",
    "from sklearn.model_selection import ParameterSampler\n",
    "from scipy.stats import randint, uniform\n",
    "import numpy as np\n",
    "from tensorflow.keras.initializers import GlorotUniform\n",
    "\n",
    "# Step 1: Fit base model on all features\n",
    "base_model = RandomForestClassifier(n_estimators=100, random_state=42, n_jobs=-1)\n",
    "base_model.fit(X_train, y_train.values.ravel())\n",
    "\n",
    "# Step 2: Select important features only\n",
    "selector = SelectFromModel(base_model, threshold=\"median\", prefit=True)\n",
    "X_train_sel = selector.transform(X_train)\n",
    "X_val_sel = selector.transform(X_val)\n"
   ]
  },
  {
   "cell_type": "code",
   "execution_count": 74,
   "metadata": {},
   "outputs": [],
   "source": [
    "from sklearn.preprocessing import MinMaxScaler\n",
    "\n",
    "# Initialize scaler\n",
    "scaler = MinMaxScaler()\n",
    "\n",
    "# Fit on training data and transform both train and val\n",
    "X_train_scaled = scaler.fit_transform(X_train_sel)\n",
    "X_val_scaled = scaler.transform(X_val_sel)\n"
   ]
  },
  {
   "cell_type": "code",
   "execution_count": 75,
   "metadata": {},
   "outputs": [
    {
     "data": {
      "text/plain": [
       "Label    0.073314\n",
       "dtype: float32"
      ]
     },
     "execution_count": 75,
     "metadata": {},
     "output_type": "execute_result"
    }
   ],
   "source": [
    "y_train.mean()"
   ]
  },
  {
   "cell_type": "code",
   "execution_count": null,
   "metadata": {},
   "outputs": [
    {
     "name": "stdout",
     "output_type": "stream",
     "text": [
      "\n",
      "Trying params: {'batch_size': 64, 'dropout_rate': np.float64(0.3123620356542087), 'epochs': 10, 'learning_rate': np.float64(0.0029521429192297484), 'num_layers': 12, 'num_units': 17}\n",
      "\u001b[1m469/469\u001b[0m \u001b[32m━━━━━━━━━━━━━━━━━━━━\u001b[0m\u001b[37m\u001b[0m \u001b[1m1s\u001b[0m 2ms/step\n",
      "Validation AUC: 0.5474\n",
      "\n",
      "Trying params: {'batch_size': 64, 'dropout_rate': np.float64(0.379597545259111), 'epochs': 10, 'learning_rate': np.float64(0.0005680559213273096), 'num_layers': 12, 'num_units': 32}\n"
     ]
    },
    {
     "name": "stderr",
     "output_type": "stream",
     "text": [
      "c:\\Users\\ASUS\\Desktop\\Assignment - Sigmoid\\model-dev\\Lib\\site-packages\\keras\\src\\layers\\core\\dense.py:87: UserWarning: Do not pass an `input_shape`/`input_dim` argument to a layer. When using Sequential models, prefer using an `Input(shape)` object as the first layer in the model instead.\n",
      "  super().__init__(activity_regularizer=activity_regularizer, **kwargs)\n"
     ]
    },
    {
     "name": "stdout",
     "output_type": "stream",
     "text": [
      "\u001b[1m469/469\u001b[0m \u001b[32m━━━━━━━━━━━━━━━━━━━━\u001b[0m\u001b[37m\u001b[0m \u001b[1m1s\u001b[0m 2ms/step\n",
      "Validation AUC: 0.5622\n",
      "\n",
      "Trying params: {'batch_size': 64, 'dropout_rate': np.float64(0.21742508365045984), 'epochs': 10, 'learning_rate': np.float64(0.0026985284373248052), 'num_layers': 13, 'num_units': 49}\n"
     ]
    },
    {
     "name": "stderr",
     "output_type": "stream",
     "text": [
      "c:\\Users\\ASUS\\Desktop\\Assignment - Sigmoid\\model-dev\\Lib\\site-packages\\keras\\src\\layers\\core\\dense.py:87: UserWarning: Do not pass an `input_shape`/`input_dim` argument to a layer. When using Sequential models, prefer using an `Input(shape)` object as the first layer in the model instead.\n",
      "  super().__init__(activity_regularizer=activity_regularizer, **kwargs)\n"
     ]
    },
    {
     "name": "stdout",
     "output_type": "stream",
     "text": [
      "\u001b[1m469/469\u001b[0m \u001b[32m━━━━━━━━━━━━━━━━━━━━\u001b[0m\u001b[37m\u001b[0m \u001b[1m1s\u001b[0m 2ms/step\n",
      "Validation AUC: 0.5641\n",
      "\n",
      "Trying params: {'batch_size': 64, 'dropout_rate': np.float64(0.4124217733388137), 'epochs': 10, 'learning_rate': np.float64(0.00016175348288740736), 'num_layers': 11, 'num_units': 33}\n"
     ]
    },
    {
     "name": "stderr",
     "output_type": "stream",
     "text": [
      "c:\\Users\\ASUS\\Desktop\\Assignment - Sigmoid\\model-dev\\Lib\\site-packages\\keras\\src\\layers\\core\\dense.py:87: UserWarning: Do not pass an `input_shape`/`input_dim` argument to a layer. When using Sequential models, prefer using an `Input(shape)` object as the first layer in the model instead.\n",
      "  super().__init__(activity_regularizer=activity_regularizer, **kwargs)\n"
     ]
    },
    {
     "name": "stdout",
     "output_type": "stream",
     "text": [
      "\u001b[1m469/469\u001b[0m \u001b[32m━━━━━━━━━━━━━━━━━━━━\u001b[0m\u001b[37m\u001b[0m \u001b[1m1s\u001b[0m 1ms/step\n",
      "Validation AUC: 0.5582\n",
      "\n",
      "Trying params: {'batch_size': 64, 'dropout_rate': np.float64(0.4497327922401265), 'epochs': 10, 'learning_rate': np.float64(0.0007370173320348285), 'num_layers': 13, 'num_units': 30}\n"
     ]
    },
    {
     "name": "stderr",
     "output_type": "stream",
     "text": [
      "c:\\Users\\ASUS\\Desktop\\Assignment - Sigmoid\\model-dev\\Lib\\site-packages\\keras\\src\\layers\\core\\dense.py:87: UserWarning: Do not pass an `input_shape`/`input_dim` argument to a layer. When using Sequential models, prefer using an `Input(shape)` object as the first layer in the model instead.\n",
      "  super().__init__(activity_regularizer=activity_regularizer, **kwargs)\n"
     ]
    },
    {
     "name": "stdout",
     "output_type": "stream",
     "text": [
      "\u001b[1m469/469\u001b[0m \u001b[32m━━━━━━━━━━━━━━━━━━━━\u001b[0m\u001b[37m\u001b[0m \u001b[1m2s\u001b[0m 3ms/step\n",
      "Validation AUC: 0.5572\n",
      "\n",
      "Trying params: {'batch_size': 64, 'dropout_rate': np.float64(0.385244452888315), 'epochs': 10, 'learning_rate': np.float64(0.0019349594814648428), 'num_layers': 14, 'num_units': 53}\n"
     ]
    },
    {
     "name": "stderr",
     "output_type": "stream",
     "text": [
      "c:\\Users\\ASUS\\Desktop\\Assignment - Sigmoid\\model-dev\\Lib\\site-packages\\keras\\src\\layers\\core\\dense.py:87: UserWarning: Do not pass an `input_shape`/`input_dim` argument to a layer. When using Sequential models, prefer using an `Input(shape)` object as the first layer in the model instead.\n",
      "  super().__init__(activity_regularizer=activity_regularizer, **kwargs)\n"
     ]
    },
    {
     "name": "stdout",
     "output_type": "stream",
     "text": [
      "\u001b[1m469/469\u001b[0m \u001b[32m━━━━━━━━━━━━━━━━━━━━\u001b[0m\u001b[37m\u001b[0m \u001b[1m1s\u001b[0m 2ms/step\n",
      "Validation AUC: 0.5626\n",
      "\n",
      "Trying params: {'batch_size': 64, 'dropout_rate': np.float64(0.20691872751242474), 'epochs': 10, 'learning_rate': np.float64(0.0016743239807751676), 'num_layers': 11, 'num_units': 37}\n"
     ]
    },
    {
     "name": "stderr",
     "output_type": "stream",
     "text": [
      "c:\\Users\\ASUS\\Desktop\\Assignment - Sigmoid\\model-dev\\Lib\\site-packages\\keras\\src\\layers\\core\\dense.py:87: UserWarning: Do not pass an `input_shape`/`input_dim` argument to a layer. When using Sequential models, prefer using an `Input(shape)` object as the first layer in the model instead.\n",
      "  super().__init__(activity_regularizer=activity_regularizer, **kwargs)\n"
     ]
    },
    {
     "name": "stdout",
     "output_type": "stream",
     "text": [
      "\u001b[1m469/469\u001b[0m \u001b[32m━━━━━━━━━━━━━━━━━━━━\u001b[0m\u001b[37m\u001b[0m \u001b[1m1s\u001b[0m 3ms/step\n",
      "Validation AUC: 0.5593\n",
      "\n",
      "Trying params: {'batch_size': 64, 'dropout_rate': np.float64(0.49212665565243774), 'epochs': 10, 'learning_rate': np.float64(0.0007983140212909128), 'num_layers': 15, 'num_units': 56}\n"
     ]
    },
    {
     "name": "stderr",
     "output_type": "stream",
     "text": [
      "c:\\Users\\ASUS\\Desktop\\Assignment - Sigmoid\\model-dev\\Lib\\site-packages\\keras\\src\\layers\\core\\dense.py:87: UserWarning: Do not pass an `input_shape`/`input_dim` argument to a layer. When using Sequential models, prefer using an `Input(shape)` object as the first layer in the model instead.\n",
      "  super().__init__(activity_regularizer=activity_regularizer, **kwargs)\n"
     ]
    },
    {
     "name": "stdout",
     "output_type": "stream",
     "text": [
      "\u001b[1m469/469\u001b[0m \u001b[32m━━━━━━━━━━━━━━━━━━━━\u001b[0m\u001b[37m\u001b[0m \u001b[1m1s\u001b[0m 2ms/step\n",
      "Validation AUC: 0.5563\n",
      "\n",
      "Trying params: {'batch_size': 64, 'dropout_rate': np.float64(0.3855158027999262), 'epochs': 10, 'learning_rate': np.float64(0.0012473859738014882), 'num_layers': 13, 'num_units': 12}\n"
     ]
    },
    {
     "name": "stderr",
     "output_type": "stream",
     "text": [
      "c:\\Users\\ASUS\\Desktop\\Assignment - Sigmoid\\model-dev\\Lib\\site-packages\\keras\\src\\layers\\core\\dense.py:87: UserWarning: Do not pass an `input_shape`/`input_dim` argument to a layer. When using Sequential models, prefer using an `Input(shape)` object as the first layer in the model instead.\n",
      "  super().__init__(activity_regularizer=activity_regularizer, **kwargs)\n"
     ]
    },
    {
     "name": "stdout",
     "output_type": "stream",
     "text": [
      "\u001b[1m469/469\u001b[0m \u001b[32m━━━━━━━━━━━━━━━━━━━━\u001b[0m\u001b[37m\u001b[0m \u001b[1m2s\u001b[0m 4ms/step\n",
      "Validation AUC: 0.5000\n",
      "\n",
      "Trying params: {'batch_size': 64, 'dropout_rate': np.float64(0.45798212202089617), 'epochs': 10, 'learning_rate': np.float64(0.002140922615763339), 'num_layers': 10, 'num_units': 48}\n"
     ]
    },
    {
     "name": "stderr",
     "output_type": "stream",
     "text": [
      "c:\\Users\\ASUS\\Desktop\\Assignment - Sigmoid\\model-dev\\Lib\\site-packages\\keras\\src\\layers\\core\\dense.py:87: UserWarning: Do not pass an `input_shape`/`input_dim` argument to a layer. When using Sequential models, prefer using an `Input(shape)` object as the first layer in the model instead.\n",
      "  super().__init__(activity_regularizer=activity_regularizer, **kwargs)\n"
     ]
    },
    {
     "name": "stdout",
     "output_type": "stream",
     "text": [
      "\u001b[1m469/469\u001b[0m \u001b[32m━━━━━━━━━━━━━━━━━━━━\u001b[0m\u001b[37m\u001b[0m \u001b[1m3s\u001b[0m 6ms/step\n",
      "Validation AUC: 0.5610\n",
      "\n",
      "✅ Best AUC: 0.5641\n",
      "Best Parameters: {'batch_size': 64, 'dropout_rate': np.float64(0.21742508365045984), 'epochs': 10, 'learning_rate': np.float64(0.0026985284373248052), 'num_layers': 13, 'num_units': 49}\n"
     ]
    }
   ],
   "source": [
    "# 2. Define hyperparameter search space (includes number of layers)\n",
    "param_dist = {\n",
    "    'learning_rate': uniform(1e-4, 3e-3),\n",
    "    'dropout_rate': uniform(0.2, 0.3),\n",
    "    'num_units': randint(10, 64),\n",
    "    'num_layers': randint(5, 16),       \n",
    "    'batch_size': [64],\n",
    "    'epochs': [10]\n",
    "}\n",
    "param_list = list(ParameterSampler(param_dist, n_iter=10, random_state=42))\n",
    "\n",
    "best_score = -1\n",
    "best_model = None\n",
    "best_params = None\n",
    "\n",
    "# 3. Training loop\n",
    "for i, params in enumerate(param_list):\n",
    "    print(f\"\\nTrying params: {params}\")\n",
    "    \n",
    "    model = Sequential()\n",
    "    model.add(Dense(params['num_units'], activation='relu', input_shape=(X_train_scaled.shape[1],),kernel_initializer=GlorotUniform(),bias_initializer='zeros'))\n",
    "    model.add(Dropout(params['dropout_rate']))\n",
    "\n",
    "    # Add additional hidden layers based on hyperparameter\n",
    "    for _ in range(params['num_layers'] - 1):\n",
    "        model.add(Dense(params['num_units'], activation='relu',kernel_initializer=GlorotUniform(),bias_initializer='zeros'))\n",
    "        model.add(Dropout(params['dropout_rate']))\n",
    "\n",
    "    model.add(Dense(1, activation='sigmoid'))\n",
    "\n",
    "    optimizer = Adam(learning_rate=params['learning_rate'])\n",
    "    model.compile(optimizer=optimizer, loss='binary_crossentropy', metrics=['AUC'])\n",
    "\n",
    "    model.fit(\n",
    "        X_train_scaled, y_train,\n",
    "        validation_data=(X_val_scaled, y_val),\n",
    "        epochs=params['epochs'],\n",
    "        batch_size=params['batch_size'],\n",
    "        verbose=0\n",
    "    )\n",
    "\n",
    "    y_val_prob = model.predict(X_val_scaled).ravel()\n",
    "    val_auc = roc_auc_score(y_val, y_val_prob)\n",
    "    print(f\"Validation AUC: {val_auc:.4f}\")\n",
    "\n",
    "    if val_auc > best_score:\n",
    "        best_score = val_auc\n",
    "        best_model = model\n",
    "        best_params = params\n",
    "\n",
    "print(f\"\\n Best AUC: {best_score:.4f}\")\n",
    "print(\"Best Parameters:\", best_params)\n",
    "\n",
    "\n"
   ]
  },
  {
   "cell_type": "code",
   "execution_count": 81,
   "metadata": {},
   "outputs": [],
   "source": [
    "#best_model.save_model(\"../model-objects/RF_final_model.json\")  # Saves model to JSON format\n",
    "\n",
    "import pickle\n",
    "\n",
    "with open('../model-objects/NN_final_model.pkl', 'wb') as f:\n",
    "    pickle.dump(best_model, f)\n",
    "\n",
    "# #loaded_model = XGBClassifier()\n",
    "# #loaded_model.load_model(\"../model-objects/xgb_final_model.json\")\n"
   ]
  },
  {
   "cell_type": "code",
   "execution_count": 86,
   "metadata": {},
   "outputs": [
    {
     "name": "stdout",
     "output_type": "stream",
     "text": [
      "\u001b[1m1094/1094\u001b[0m \u001b[32m━━━━━━━━━━━━━━━━━━━━\u001b[0m\u001b[37m\u001b[0m \u001b[1m6s\u001b[0m 5ms/step\n",
      "\u001b[1m469/469\u001b[0m \u001b[32m━━━━━━━━━━━━━━━━━━━━\u001b[0m\u001b[37m\u001b[0m \u001b[1m3s\u001b[0m 5ms/step\n"
     ]
    }
   ],
   "source": [
    "# Step 6: Get predictions on train/val\n",
    "y_train_prob = model.predict(X_train_scaled).ravel()\n",
    "y_val_prob = model.predict(X_val_scaled).ravel()\n",
    "train_auc = roc_auc_score(y_train, y_train_prob)\n",
    "val_auc = roc_auc_score(y_val, y_val_prob)"
   ]
  },
  {
   "cell_type": "code",
   "execution_count": 87,
   "metadata": {},
   "outputs": [],
   "source": [
    "data_ap_train = pd.DataFrame({'Actual':y_train.values.ravel(),'Predicted':y_train_prob})\n",
    "data_ap_val = pd.DataFrame({'Actual':y_val.values.ravel(),'Predicted':y_val_prob})"
   ]
  },
  {
   "cell_type": "markdown",
   "metadata": {},
   "source": [
    "**KS AND RANK ORDER**"
   ]
  },
  {
   "cell_type": "code",
   "execution_count": 88,
   "metadata": {},
   "outputs": [],
   "source": [
    "def ks(data=None,target=None, prob=None):\n",
    "    data['target0'] = 1 - data[target]\n",
    "    data['bucket'] = pd.qcut(data[prob], 10)\n",
    "    grouped = data.groupby('bucket', as_index = False)\n",
    "    kstable = pd.DataFrame()\n",
    "    kstable['min_prob'] = grouped.min()[prob]\n",
    "    kstable['max_prob'] = grouped.max()[prob]\n",
    "    kstable['events']   = grouped.sum()[target]\n",
    "    kstable['nonevents'] = grouped.sum()['target0']\n",
    "    kstable = kstable.sort_values(by=\"min_prob\", ascending=False).reset_index(drop = True)\n",
    "    kstable['event_rate'] = (kstable.events / data[target].sum()).apply('{0:.2%}'.format)\n",
    "    kstable['nonevent_rate'] = (kstable.nonevents / data['target0'].sum()).apply('{0:.2%}'.format)\n",
    "    kstable['cum_eventrate']=(kstable.events / data[target].sum()).cumsum()\n",
    "    kstable['cum_noneventrate']=(kstable.nonevents / data['target0'].sum()).cumsum()\n",
    "    kstable['KS'] = np.round(kstable['cum_eventrate']-kstable['cum_noneventrate'], 3) * 100\n",
    "\n",
    "    #Formating\n",
    "    kstable['cum_eventrate']= kstable['cum_eventrate'].apply('{0:.2%}'.format)\n",
    "    kstable['cum_noneventrate']= kstable['cum_noneventrate'].apply('{0:.2%}'.format)\n",
    "    kstable.index = range(1,11)\n",
    "    kstable.index.rename('Decile', inplace=True)\n",
    "    pd.set_option('display.max_columns', 9)\n",
    "    print(kstable)\n",
    "    \n",
    "    #Display KS\n",
    "    from colorama import Fore\n",
    "    print(Fore.RED + \"KS is \" + str(max(kstable['KS']))+\"%\"+ \" at decile \" + str((kstable.index[kstable['KS']==max(kstable['KS'])][0])))\n",
    "    return(kstable)"
   ]
  },
  {
   "cell_type": "code",
   "execution_count": 89,
   "metadata": {},
   "outputs": [
    {
     "ename": "ValueError",
     "evalue": "Bin edges must be unique: Index([0.0064096637070178986,   0.05105820782482624,   0.07025631815195084,\n         0.08795567452907563,   0.10524910688400269,   0.11974748596549034,\n         0.12632262110710143,   0.12638522684574127,   0.12638522684574127,\n         0.12638522684574127,   0.12638522684574127],\n      dtype='float64', name='Predicted').\nYou can drop duplicate edges by setting the 'duplicates' kwarg",
     "output_type": "error",
     "traceback": [
      "\u001b[31m---------------------------------------------------------------------------\u001b[39m",
      "\u001b[31mValueError\u001b[39m                                Traceback (most recent call last)",
      "\u001b[36mCell\u001b[39m\u001b[36m \u001b[39m\u001b[32mIn[89]\u001b[39m\u001b[32m, line 1\u001b[39m\n\u001b[32m----> \u001b[39m\u001b[32m1\u001b[39m ks_train=\u001b[43mks\u001b[49m\u001b[43m(\u001b[49m\u001b[43mdata\u001b[49m\u001b[43m=\u001b[49m\u001b[43mdata_ap_train\u001b[49m\u001b[43m,\u001b[49m\u001b[43mtarget\u001b[49m\u001b[43m=\u001b[49m\u001b[33;43m'\u001b[39;49m\u001b[33;43mActual\u001b[39;49m\u001b[33;43m'\u001b[39;49m\u001b[43m,\u001b[49m\u001b[43mprob\u001b[49m\u001b[43m=\u001b[49m\u001b[33;43m'\u001b[39;49m\u001b[33;43mPredicted\u001b[39;49m\u001b[33;43m'\u001b[39;49m\u001b[43m)\u001b[49m\n",
      "\u001b[36mCell\u001b[39m\u001b[36m \u001b[39m\u001b[32mIn[88]\u001b[39m\u001b[32m, line 3\u001b[39m, in \u001b[36mks\u001b[39m\u001b[34m(data, target, prob)\u001b[39m\n\u001b[32m      1\u001b[39m \u001b[38;5;28;01mdef\u001b[39;00m\u001b[38;5;250m \u001b[39m\u001b[34mks\u001b[39m(data=\u001b[38;5;28;01mNone\u001b[39;00m,target=\u001b[38;5;28;01mNone\u001b[39;00m, prob=\u001b[38;5;28;01mNone\u001b[39;00m):\n\u001b[32m      2\u001b[39m     data[\u001b[33m'\u001b[39m\u001b[33mtarget0\u001b[39m\u001b[33m'\u001b[39m] = \u001b[32m1\u001b[39m - data[target]\n\u001b[32m----> \u001b[39m\u001b[32m3\u001b[39m     data[\u001b[33m'\u001b[39m\u001b[33mbucket\u001b[39m\u001b[33m'\u001b[39m] = \u001b[43mpd\u001b[49m\u001b[43m.\u001b[49m\u001b[43mqcut\u001b[49m\u001b[43m(\u001b[49m\u001b[43mdata\u001b[49m\u001b[43m[\u001b[49m\u001b[43mprob\u001b[49m\u001b[43m]\u001b[49m\u001b[43m,\u001b[49m\u001b[43m \u001b[49m\u001b[32;43m10\u001b[39;49m\u001b[43m)\u001b[49m\n\u001b[32m      4\u001b[39m     grouped = data.groupby(\u001b[33m'\u001b[39m\u001b[33mbucket\u001b[39m\u001b[33m'\u001b[39m, as_index = \u001b[38;5;28;01mFalse\u001b[39;00m)\n\u001b[32m      5\u001b[39m     kstable = pd.DataFrame()\n",
      "\u001b[36mFile \u001b[39m\u001b[32mc:\\Users\\ASUS\\Desktop\\Assignment - Sigmoid\\model-dev\\Lib\\site-packages\\pandas\\core\\reshape\\tile.py:340\u001b[39m, in \u001b[36mqcut\u001b[39m\u001b[34m(x, q, labels, retbins, precision, duplicates)\u001b[39m\n\u001b[32m    336\u001b[39m quantiles = np.linspace(\u001b[32m0\u001b[39m, \u001b[32m1\u001b[39m, q + \u001b[32m1\u001b[39m) \u001b[38;5;28;01mif\u001b[39;00m is_integer(q) \u001b[38;5;28;01melse\u001b[39;00m q\n\u001b[32m    338\u001b[39m bins = x_idx.to_series().dropna().quantile(quantiles)\n\u001b[32m--> \u001b[39m\u001b[32m340\u001b[39m fac, bins = \u001b[43m_bins_to_cuts\u001b[49m\u001b[43m(\u001b[49m\n\u001b[32m    341\u001b[39m \u001b[43m    \u001b[49m\u001b[43mx_idx\u001b[49m\u001b[43m,\u001b[49m\n\u001b[32m    342\u001b[39m \u001b[43m    \u001b[49m\u001b[43mIndex\u001b[49m\u001b[43m(\u001b[49m\u001b[43mbins\u001b[49m\u001b[43m)\u001b[49m\u001b[43m,\u001b[49m\n\u001b[32m    343\u001b[39m \u001b[43m    \u001b[49m\u001b[43mlabels\u001b[49m\u001b[43m=\u001b[49m\u001b[43mlabels\u001b[49m\u001b[43m,\u001b[49m\n\u001b[32m    344\u001b[39m \u001b[43m    \u001b[49m\u001b[43mprecision\u001b[49m\u001b[43m=\u001b[49m\u001b[43mprecision\u001b[49m\u001b[43m,\u001b[49m\n\u001b[32m    345\u001b[39m \u001b[43m    \u001b[49m\u001b[43minclude_lowest\u001b[49m\u001b[43m=\u001b[49m\u001b[38;5;28;43;01mTrue\u001b[39;49;00m\u001b[43m,\u001b[49m\n\u001b[32m    346\u001b[39m \u001b[43m    \u001b[49m\u001b[43mduplicates\u001b[49m\u001b[43m=\u001b[49m\u001b[43mduplicates\u001b[49m\u001b[43m,\u001b[49m\n\u001b[32m    347\u001b[39m \u001b[43m\u001b[49m\u001b[43m)\u001b[49m\n\u001b[32m    349\u001b[39m \u001b[38;5;28;01mreturn\u001b[39;00m _postprocess_for_cut(fac, bins, retbins, original)\n",
      "\u001b[36mFile \u001b[39m\u001b[32mc:\\Users\\ASUS\\Desktop\\Assignment - Sigmoid\\model-dev\\Lib\\site-packages\\pandas\\core\\reshape\\tile.py:443\u001b[39m, in \u001b[36m_bins_to_cuts\u001b[39m\u001b[34m(x_idx, bins, right, labels, precision, include_lowest, duplicates, ordered)\u001b[39m\n\u001b[32m    441\u001b[39m \u001b[38;5;28;01mif\u001b[39;00m \u001b[38;5;28mlen\u001b[39m(unique_bins) < \u001b[38;5;28mlen\u001b[39m(bins) \u001b[38;5;129;01mand\u001b[39;00m \u001b[38;5;28mlen\u001b[39m(bins) != \u001b[32m2\u001b[39m:\n\u001b[32m    442\u001b[39m     \u001b[38;5;28;01mif\u001b[39;00m duplicates == \u001b[33m\"\u001b[39m\u001b[33mraise\u001b[39m\u001b[33m\"\u001b[39m:\n\u001b[32m--> \u001b[39m\u001b[32m443\u001b[39m         \u001b[38;5;28;01mraise\u001b[39;00m \u001b[38;5;167;01mValueError\u001b[39;00m(\n\u001b[32m    444\u001b[39m             \u001b[33mf\u001b[39m\u001b[33m\"\u001b[39m\u001b[33mBin edges must be unique: \u001b[39m\u001b[38;5;132;01m{\u001b[39;00m\u001b[38;5;28mrepr\u001b[39m(bins)\u001b[38;5;132;01m}\u001b[39;00m\u001b[33m.\u001b[39m\u001b[38;5;130;01m\\n\u001b[39;00m\u001b[33m\"\u001b[39m\n\u001b[32m    445\u001b[39m             \u001b[33mf\u001b[39m\u001b[33m\"\u001b[39m\u001b[33mYou can drop duplicate edges by setting the \u001b[39m\u001b[33m'\u001b[39m\u001b[33mduplicates\u001b[39m\u001b[33m'\u001b[39m\u001b[33m kwarg\u001b[39m\u001b[33m\"\u001b[39m\n\u001b[32m    446\u001b[39m         )\n\u001b[32m    447\u001b[39m     bins = unique_bins\n\u001b[32m    449\u001b[39m side: Literal[\u001b[33m\"\u001b[39m\u001b[33mleft\u001b[39m\u001b[33m\"\u001b[39m, \u001b[33m\"\u001b[39m\u001b[33mright\u001b[39m\u001b[33m\"\u001b[39m] = \u001b[33m\"\u001b[39m\u001b[33mleft\u001b[39m\u001b[33m\"\u001b[39m \u001b[38;5;28;01mif\u001b[39;00m right \u001b[38;5;28;01melse\u001b[39;00m \u001b[33m\"\u001b[39m\u001b[33mright\u001b[39m\u001b[33m\"\u001b[39m\n",
      "\u001b[31mValueError\u001b[39m: Bin edges must be unique: Index([0.0064096637070178986,   0.05105820782482624,   0.07025631815195084,\n         0.08795567452907563,   0.10524910688400269,   0.11974748596549034,\n         0.12632262110710143,   0.12638522684574127,   0.12638522684574127,\n         0.12638522684574127,   0.12638522684574127],\n      dtype='float64', name='Predicted').\nYou can drop duplicate edges by setting the 'duplicates' kwarg"
     ]
    }
   ],
   "source": [
    "ks_train=ks(data=data_ap_train,target='Actual',prob='Predicted')"
   ]
  },
  {
   "cell_type": "code",
   "execution_count": 90,
   "metadata": {},
   "outputs": [
    {
     "ename": "ValueError",
     "evalue": "Bin edges must be unique: Index([0.008170580491423607,  0.05907974503934384,  0.08692148476839066,\n        0.11214669421315195,   0.1262371599674225,  0.12638522684574127,\n        0.12638522684574127,  0.12638522684574127,  0.12638522684574127,\n        0.12638522684574127,  0.12638522684574127],\n      dtype='float64', name='Predicted').\nYou can drop duplicate edges by setting the 'duplicates' kwarg",
     "output_type": "error",
     "traceback": [
      "\u001b[31m---------------------------------------------------------------------------\u001b[39m",
      "\u001b[31mValueError\u001b[39m                                Traceback (most recent call last)",
      "\u001b[36mCell\u001b[39m\u001b[36m \u001b[39m\u001b[32mIn[90]\u001b[39m\u001b[32m, line 1\u001b[39m\n\u001b[32m----> \u001b[39m\u001b[32m1\u001b[39m ks_val=\u001b[43mks\u001b[49m\u001b[43m(\u001b[49m\u001b[43mdata\u001b[49m\u001b[43m=\u001b[49m\u001b[43mdata_ap_val\u001b[49m\u001b[43m,\u001b[49m\u001b[43mtarget\u001b[49m\u001b[43m=\u001b[49m\u001b[33;43m'\u001b[39;49m\u001b[33;43mActual\u001b[39;49m\u001b[33;43m'\u001b[39;49m\u001b[43m,\u001b[49m\u001b[43mprob\u001b[49m\u001b[43m=\u001b[49m\u001b[33;43m'\u001b[39;49m\u001b[33;43mPredicted\u001b[39;49m\u001b[33;43m'\u001b[39;49m\u001b[43m)\u001b[49m\n",
      "\u001b[36mCell\u001b[39m\u001b[36m \u001b[39m\u001b[32mIn[88]\u001b[39m\u001b[32m, line 3\u001b[39m, in \u001b[36mks\u001b[39m\u001b[34m(data, target, prob)\u001b[39m\n\u001b[32m      1\u001b[39m \u001b[38;5;28;01mdef\u001b[39;00m\u001b[38;5;250m \u001b[39m\u001b[34mks\u001b[39m(data=\u001b[38;5;28;01mNone\u001b[39;00m,target=\u001b[38;5;28;01mNone\u001b[39;00m, prob=\u001b[38;5;28;01mNone\u001b[39;00m):\n\u001b[32m      2\u001b[39m     data[\u001b[33m'\u001b[39m\u001b[33mtarget0\u001b[39m\u001b[33m'\u001b[39m] = \u001b[32m1\u001b[39m - data[target]\n\u001b[32m----> \u001b[39m\u001b[32m3\u001b[39m     data[\u001b[33m'\u001b[39m\u001b[33mbucket\u001b[39m\u001b[33m'\u001b[39m] = \u001b[43mpd\u001b[49m\u001b[43m.\u001b[49m\u001b[43mqcut\u001b[49m\u001b[43m(\u001b[49m\u001b[43mdata\u001b[49m\u001b[43m[\u001b[49m\u001b[43mprob\u001b[49m\u001b[43m]\u001b[49m\u001b[43m,\u001b[49m\u001b[43m \u001b[49m\u001b[32;43m10\u001b[39;49m\u001b[43m)\u001b[49m\n\u001b[32m      4\u001b[39m     grouped = data.groupby(\u001b[33m'\u001b[39m\u001b[33mbucket\u001b[39m\u001b[33m'\u001b[39m, as_index = \u001b[38;5;28;01mFalse\u001b[39;00m)\n\u001b[32m      5\u001b[39m     kstable = pd.DataFrame()\n",
      "\u001b[36mFile \u001b[39m\u001b[32mc:\\Users\\ASUS\\Desktop\\Assignment - Sigmoid\\model-dev\\Lib\\site-packages\\pandas\\core\\reshape\\tile.py:340\u001b[39m, in \u001b[36mqcut\u001b[39m\u001b[34m(x, q, labels, retbins, precision, duplicates)\u001b[39m\n\u001b[32m    336\u001b[39m quantiles = np.linspace(\u001b[32m0\u001b[39m, \u001b[32m1\u001b[39m, q + \u001b[32m1\u001b[39m) \u001b[38;5;28;01mif\u001b[39;00m is_integer(q) \u001b[38;5;28;01melse\u001b[39;00m q\n\u001b[32m    338\u001b[39m bins = x_idx.to_series().dropna().quantile(quantiles)\n\u001b[32m--> \u001b[39m\u001b[32m340\u001b[39m fac, bins = \u001b[43m_bins_to_cuts\u001b[49m\u001b[43m(\u001b[49m\n\u001b[32m    341\u001b[39m \u001b[43m    \u001b[49m\u001b[43mx_idx\u001b[49m\u001b[43m,\u001b[49m\n\u001b[32m    342\u001b[39m \u001b[43m    \u001b[49m\u001b[43mIndex\u001b[49m\u001b[43m(\u001b[49m\u001b[43mbins\u001b[49m\u001b[43m)\u001b[49m\u001b[43m,\u001b[49m\n\u001b[32m    343\u001b[39m \u001b[43m    \u001b[49m\u001b[43mlabels\u001b[49m\u001b[43m=\u001b[49m\u001b[43mlabels\u001b[49m\u001b[43m,\u001b[49m\n\u001b[32m    344\u001b[39m \u001b[43m    \u001b[49m\u001b[43mprecision\u001b[49m\u001b[43m=\u001b[49m\u001b[43mprecision\u001b[49m\u001b[43m,\u001b[49m\n\u001b[32m    345\u001b[39m \u001b[43m    \u001b[49m\u001b[43minclude_lowest\u001b[49m\u001b[43m=\u001b[49m\u001b[38;5;28;43;01mTrue\u001b[39;49;00m\u001b[43m,\u001b[49m\n\u001b[32m    346\u001b[39m \u001b[43m    \u001b[49m\u001b[43mduplicates\u001b[49m\u001b[43m=\u001b[49m\u001b[43mduplicates\u001b[49m\u001b[43m,\u001b[49m\n\u001b[32m    347\u001b[39m \u001b[43m\u001b[49m\u001b[43m)\u001b[49m\n\u001b[32m    349\u001b[39m \u001b[38;5;28;01mreturn\u001b[39;00m _postprocess_for_cut(fac, bins, retbins, original)\n",
      "\u001b[36mFile \u001b[39m\u001b[32mc:\\Users\\ASUS\\Desktop\\Assignment - Sigmoid\\model-dev\\Lib\\site-packages\\pandas\\core\\reshape\\tile.py:443\u001b[39m, in \u001b[36m_bins_to_cuts\u001b[39m\u001b[34m(x_idx, bins, right, labels, precision, include_lowest, duplicates, ordered)\u001b[39m\n\u001b[32m    441\u001b[39m \u001b[38;5;28;01mif\u001b[39;00m \u001b[38;5;28mlen\u001b[39m(unique_bins) < \u001b[38;5;28mlen\u001b[39m(bins) \u001b[38;5;129;01mand\u001b[39;00m \u001b[38;5;28mlen\u001b[39m(bins) != \u001b[32m2\u001b[39m:\n\u001b[32m    442\u001b[39m     \u001b[38;5;28;01mif\u001b[39;00m duplicates == \u001b[33m\"\u001b[39m\u001b[33mraise\u001b[39m\u001b[33m\"\u001b[39m:\n\u001b[32m--> \u001b[39m\u001b[32m443\u001b[39m         \u001b[38;5;28;01mraise\u001b[39;00m \u001b[38;5;167;01mValueError\u001b[39;00m(\n\u001b[32m    444\u001b[39m             \u001b[33mf\u001b[39m\u001b[33m\"\u001b[39m\u001b[33mBin edges must be unique: \u001b[39m\u001b[38;5;132;01m{\u001b[39;00m\u001b[38;5;28mrepr\u001b[39m(bins)\u001b[38;5;132;01m}\u001b[39;00m\u001b[33m.\u001b[39m\u001b[38;5;130;01m\\n\u001b[39;00m\u001b[33m\"\u001b[39m\n\u001b[32m    445\u001b[39m             \u001b[33mf\u001b[39m\u001b[33m\"\u001b[39m\u001b[33mYou can drop duplicate edges by setting the \u001b[39m\u001b[33m'\u001b[39m\u001b[33mduplicates\u001b[39m\u001b[33m'\u001b[39m\u001b[33m kwarg\u001b[39m\u001b[33m\"\u001b[39m\n\u001b[32m    446\u001b[39m         )\n\u001b[32m    447\u001b[39m     bins = unique_bins\n\u001b[32m    449\u001b[39m side: Literal[\u001b[33m\"\u001b[39m\u001b[33mleft\u001b[39m\u001b[33m\"\u001b[39m, \u001b[33m\"\u001b[39m\u001b[33mright\u001b[39m\u001b[33m\"\u001b[39m] = \u001b[33m\"\u001b[39m\u001b[33mleft\u001b[39m\u001b[33m\"\u001b[39m \u001b[38;5;28;01mif\u001b[39;00m right \u001b[38;5;28;01melse\u001b[39;00m \u001b[33m\"\u001b[39m\u001b[33mright\u001b[39m\u001b[33m\"\u001b[39m\n",
      "\u001b[31mValueError\u001b[39m: Bin edges must be unique: Index([0.008170580491423607,  0.05907974503934384,  0.08692148476839066,\n        0.11214669421315195,   0.1262371599674225,  0.12638522684574127,\n        0.12638522684574127,  0.12638522684574127,  0.12638522684574127,\n        0.12638522684574127,  0.12638522684574127],\n      dtype='float64', name='Predicted').\nYou can drop duplicate edges by setting the 'duplicates' kwarg"
     ]
    }
   ],
   "source": [
    "ks_val=ks(data=data_ap_val,target='Actual',prob='Predicted')"
   ]
  },
  {
   "cell_type": "code",
   "execution_count": 63,
   "metadata": {},
   "outputs": [
    {
     "ename": "NameError",
     "evalue": "name 'ks_val' is not defined",
     "output_type": "error",
     "traceback": [
      "\u001b[31m---------------------------------------------------------------------------\u001b[39m",
      "\u001b[31mNameError\u001b[39m                                 Traceback (most recent call last)",
      "\u001b[36mCell\u001b[39m\u001b[36m \u001b[39m\u001b[32mIn[63]\u001b[39m\u001b[32m, line 2\u001b[39m\n\u001b[32m      1\u001b[39m ks_train.to_csv(\u001b[33m'\u001b[39m\u001b[33m../data-analysis/ks_table_train_nn.csv\u001b[39m\u001b[33m'\u001b[39m)\n\u001b[32m----> \u001b[39m\u001b[32m2\u001b[39m \u001b[43mks_val\u001b[49m.to_csv(\u001b[33m'\u001b[39m\u001b[33m../data-analysis/ks_table_val_nn.csv\u001b[39m\u001b[33m'\u001b[39m)\n",
      "\u001b[31mNameError\u001b[39m: name 'ks_val' is not defined"
     ]
    }
   ],
   "source": [
    "ks_train.to_csv('../data-analysis/ks_table_train_nn.csv')\n",
    "ks_val.to_csv('../data-analysis/ks_table_val_nn.csv')"
   ]
  },
  {
   "cell_type": "code",
   "execution_count": null,
   "metadata": {},
   "outputs": [],
   "source": []
  },
  {
   "cell_type": "code",
   "execution_count": null,
   "metadata": {},
   "outputs": [],
   "source": []
  }
 ],
 "metadata": {
  "kernelspec": {
   "display_name": "model-dev",
   "language": "python",
   "name": "python3"
  },
  "language_info": {
   "codemirror_mode": {
    "name": "ipython",
    "version": 3
   },
   "file_extension": ".py",
   "mimetype": "text/x-python",
   "name": "python",
   "nbconvert_exporter": "python",
   "pygments_lexer": "ipython3",
   "version": "3.12.7"
  }
 },
 "nbformat": 4,
 "nbformat_minor": 2
}
